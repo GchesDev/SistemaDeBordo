{
  "nbformat": 4,
  "nbformat_minor": 0,
  "metadata": {
    "colab": {
      "provenance": [],
      "authorship_tag": "ABX9TyPlUqNLTYyRhhn8Z+Iy5IOt",
      "include_colab_link": true
    },
    "kernelspec": {
      "name": "python3",
      "display_name": "Python 3"
    },
    "language_info": {
      "name": "python"
    }
  },
  "cells": [
    {
      "cell_type": "markdown",
      "metadata": {
        "id": "view-in-github",
        "colab_type": "text"
      },
      "source": [
        "<a href=\"https://colab.research.google.com/github/GchesDev/SistemaDeBordo/blob/main/main.ipynb\" target=\"_parent\"><img src=\"https://colab.research.google.com/assets/colab-badge.svg\" alt=\"Open In Colab\"/></a>"
      ]
    },
    {
      "cell_type": "code",
      "source": [
        "!pip install python-dotenv"
      ],
      "metadata": {
        "id": "zvRotUjUnexb"
      },
      "execution_count": null,
      "outputs": []
    },
    {
      "cell_type": "code",
      "execution_count": null,
      "metadata": {
        "id": "JyiZ5hTBl-al"
      },
      "outputs": [],
      "source": [
        "# Simulador de sistema básico de um avião\n",
        "# Monitorar sensores importantes --- Temperatura do motor, pressão do ar e velocidade\n",
        "\n",
        "\n",
        "from random import uniform, randint\n",
        "import time\n",
        "\n",
        "\n",
        "class SistemaDeBordo:\n",
        "  def __init__(self):\n",
        "    # Variáveis Globais da classe\n",
        "    self.ligado = False\n",
        "    self.temperatura = 0\n",
        "    self.velocidade = 0\n",
        "    self.pressao = 0\n",
        "    self.altitude = 0\n",
        "\n",
        "  def ligar(self):\n",
        "    self.ligado = True\n",
        "    print(\"Sistema de bordo ligado.\")\n",
        "\n",
        "  def desligar(self):\n",
        "    self.ligado = False\n",
        "    print(\"Sistema de bordo desligado\")\n",
        "\n",
        "  def atualizar_sensores(self):\n",
        "    if not self.ligado:\n",
        "      print(\"Sistema desligado. Não há dados para mostrar.\")\n",
        "      return\n",
        "\n",
        "   # contador_velocidade = randint(7, 15)\n",
        "    contador_altitude = round(uniform(2,3),2)\n",
        "    margem_temperatura = round(uniform(1,4))\n",
        "\n",
        "\n",
        "    self.altitude = round(contador_altitude * self.velocidade)\n",
        "    if self.velocidade >300 and self.velocidade < 500:\n",
        "      self.temperatura = 11 + margem_temperatura\n",
        "    elif self.velocidade >= 500 and self.velocidade <=600:\n",
        "      self.temperatura = 20 + margem_temperatura\n",
        "    elif self.velocidade > 600 and self.velocidade < 720:\n",
        "      self.temperatura = 25 + margem_temperatura\n",
        "    else:\n",
        "      print(\"Temperatura ambiente não retorna dados.\")\n",
        "\n",
        "    match self.altitude:\n",
        "      case self.altitude if self.altitude <= 100: self.pressao = 1.0\n",
        "      case self.altitude if self.altitude > 100 and self.altitude <= 300: self.pressao = 0.98\n",
        "      case self.altitude if self.altitude > 300 and self.altitude <= 500: self.pressao = 0.95\n",
        "      case self.altitude if self.altitude >= 501: self.pressao = 0.89\n",
        "\n",
        "\n",
        "\n",
        "  def simular(self):\n",
        "    if self.ligado:\n",
        "\n",
        "      print(\"Simulação de voo  em andamento.. \")\n",
        "      for a in range(3):\n",
        "        contador_velocidade = randint(7, 15)\n",
        "        self.velocidade += contador_velocidade\n",
        "    else:\n",
        "      print(\"Sistema de bordo desligado.\")\n",
        "\n",
        "\n",
        "  def mostrar_relatorio(self):\n",
        "    if not self.ligado:\n",
        "      print(\"sistema desligado.\")\n",
        "      return\n",
        "    time.sleep(2)\n",
        "    print(f\"Velocidade da aeronave: {self.velocidade} km/h\")\n",
        "    time.sleep(2)\n",
        "    print(f\"Altitude da aeronave: {self.altitude}\")\n",
        "    time.sleep(2)\n",
        "    print(f\"Atingiram uma temperatura de {self.temperatura}C\")\n",
        "    time.sleep(2)\n",
        "    print(f\"E a pressão do ar é cerca de {self.pressao}\")\n",
        "\n",
        "\n",
        "sistema = SistemaDeBordo()\n",
        "sistema.ligar()\n",
        "\n",
        "\n",
        "try:\n",
        "  while True:\n",
        "    sistema.simular()\n",
        "    print(\"Enter para continuar: \")\n",
        "    input()\n",
        "    sistema.atualizar_sensores()\n",
        "    sistema.mostrar_relatorio()\n",
        "except KeyboardInterrupt:\n",
        "  sistema.desligar()\n",
        "  print(\"Simulador finalizado.\")\n"
      ]
    }
  ]
}